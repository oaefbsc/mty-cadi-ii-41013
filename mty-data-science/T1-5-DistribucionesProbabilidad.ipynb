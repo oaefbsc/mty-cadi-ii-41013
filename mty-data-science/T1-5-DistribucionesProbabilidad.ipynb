{
 "cells": [
  {
   "cell_type": "markdown",
   "metadata": {},
   "source": [
    "# Funciones de probabilidad"
   ]
  },
  {
   "cell_type": "markdown",
   "metadata": {},
   "source": [
    "## Distribución uniforme"
   ]
  },
  {
   "cell_type": "code",
   "execution_count": null,
   "metadata": {},
   "outputs": [],
   "source": [
    "import numpy as np\n",
    "import pandas as pd\n",
    "import matplotlib.pyplot as plt"
   ]
  },
  {
   "cell_type": "markdown",
   "metadata": {},
   "source": [
    "La probabilidad de una variable aleatoria que toma valores dentro el intervalo $[a,b]$ es: $$p(x)=\\frac{1}{b-a}$$"
   ]
  },
  {
   "cell_type": "code",
   "execution_count": null,
   "metadata": {},
   "outputs": [],
   "source": [
    "# uniform() genera números aleatorios que siguen\n",
    "# la distribución uniforme\n",
    "a = 1\n",
    "b = 100\n",
    "n = 1000000\n",
    "data = np.random.uniform(a, b, n)"
   ]
  },
  {
   "cell_type": "code",
   "execution_count": null,
   "metadata": {},
   "outputs": [],
   "source": [
    "%matplotlib inline\n",
    "plt.hist(data)"
   ]
  },
  {
   "cell_type": "markdown",
   "metadata": {},
   "source": [
    "## Distribución normal"
   ]
  },
  {
   "cell_type": "code",
   "execution_count": null,
   "metadata": {},
   "outputs": [],
   "source": [
    "# randn() genera números aleatorios que siguen\n",
    "# la distribución normal\n",
    "data = np.random.randn(1000000)"
   ]
  },
  {
   "cell_type": "code",
   "execution_count": null,
   "metadata": {},
   "outputs": [],
   "source": [
    "x = range(1,1000001)\n",
    "plt.plot(x,data)"
   ]
  },
  {
   "cell_type": "markdown",
   "metadata": {},
   "source": [
    "Los datos que se generan con `randn()` corresponden a una distribución normal típica con $\\mu = 0$ y $\\sigma = 1$."
   ]
  },
  {
   "cell_type": "code",
   "execution_count": null,
   "metadata": {},
   "outputs": [],
   "source": [
    "plt.hist(data)"
   ]
  },
  {
   "cell_type": "markdown",
   "metadata": {},
   "source": [
    "Una manera de verificar que efectivamente se están generando datos que siguen una distribución normal es graficando los datos ordenados. La gráfica mostrará la forma de la distribución normal acumulada."
   ]
  },
  {
   "cell_type": "code",
   "execution_count": null,
   "metadata": {},
   "outputs": [],
   "source": [
    "# grafica los datos ordenados\n",
    "plt.plot(x,sorted(data))"
   ]
  },
  {
   "cell_type": "markdown",
   "metadata": {},
   "source": [
    "Una manera de generar valores aleatorios que sigan una distribución normal con cualquier valor de la media y desviación estándar $X \\rightarrow N(\\mu, \\sigma)$ consiste en utilizar la expresión para normalizar cualquier variable aleatoria: $$X = \\mu + \\sigma Z$$ donde $Z \\rightarrow N(0, 1)$"
   ]
  },
  {
   "cell_type": "code",
   "execution_count": null,
   "metadata": {},
   "outputs": [],
   "source": [
    "mu = 5.5\n",
    "sd = 2.5\n",
    "z = np.random.randn(10000)\n",
    "data = mu + z * sd\n",
    "plt.hist(data)"
   ]
  },
  {
   "cell_type": "code",
   "execution_count": null,
   "metadata": {},
   "outputs": [],
   "source": [
    "# genera un array de dimensiones datas cuyos valores\n",
    "# siguen una distribución normal típica\n",
    "data = np.random.rand(2,4)"
   ]
  },
  {
   "cell_type": "markdown",
   "metadata": {},
   "source": [
    "## Simulación de Monte Carlo"
   ]
  },
  {
   "cell_type": "markdown",
   "metadata": {},
   "source": [
    "Para mostrar el funcionamiento de la simulación de Monte Carlo, se utiliza la simulación de $\\pi$ de manera numérica. Por medio de un círculo de radio $r$ inscrito en un cuadrado de lado $2r$ se calcula la probabilidad de que un punto $z$ con coordenadas $x,y$ caiga dentro del círculo. Para un número suficiente de puntos generados aleatoriamente, la relación de valores que caen dentro del círculo sobre el total de valores generados proporciona una buena aproximacion de $pi$ dado que:\n",
    "$$ p(z) = \\frac{area del circulo}{area del cuadrado} = \\frac{\\pi r^2 }{4r^2} = \\frac{\\pi}{4}$$ "
   ]
  },
  {
   "cell_type": "markdown",
   "metadata": {},
   "source": [
    "**Algoritmo:**\n",
    "- generar dos números aleatorios en $[0,r]$.\n",
    "- calcular $z = \\sqrt{x^2 + y^2}$.\n",
    "    - si el valor es inferior a r se está dentro del círculo.\n",
    "    - si el valor no es inferior a r se está fuera del círculo.\n",
    "- calcular la probabilidad de caer dentro del círculo para un número suficiente de puntos.\n",
    "- utilizar esta probabilidad para aproximar el valor de $\\pi = 4p(x)$.\n",
    "- repetir el experimento un número suficiente de veces para obtener diferentes aproximaciones de $\\pi$.\n",
    "- calcular el promedio de los experimentos realizados para tener la aproximación final de $\\pi$."
   ]
  },
  {
   "cell_type": "code",
   "execution_count": null,
   "metadata": {},
   "outputs": [],
   "source": [
    "# se generan 1000 puntos\n",
    "# se repite el experimento 100 veces\n",
    "# el radio radio del círculo es r = 1 \n",
    "\n"
   ]
  },
  {
   "cell_type": "markdown",
   "metadata": {},
   "source": [
    "## Dummy Data Sets"
   ]
  },
  {
   "cell_type": "markdown",
   "metadata": {},
   "source": [
    "Un Dummy Data Set puede crearse por medio de la generación de números aleatorios combinado con el uso de estructuras de datos de Python. "
   ]
  },
  {
   "cell_type": "code",
   "execution_count": null,
   "metadata": {},
   "outputs": [],
   "source": [
    "n = 10000\n",
    "data = pd.DataFrame(\n",
    "    {\n",
    "        'A' : np.random.randn(n),\n",
    "        'B' : 1.5 + 2.5 * np.random.randn(n),\n",
    "        'C' : np.random.uniform(5, 32, n)\n",
    "    }\n",
    ")"
   ]
  },
  {
   "cell_type": "code",
   "execution_count": null,
   "metadata": {},
   "outputs": [],
   "source": [
    "data.head()"
   ]
  },
  {
   "cell_type": "code",
   "execution_count": null,
   "metadata": {},
   "outputs": [],
   "source": [
    "data.describe()"
   ]
  },
  {
   "cell_type": "code",
   "execution_count": null,
   "metadata": {},
   "outputs": [],
   "source": [
    "plt.hist(data[\"A\"])"
   ]
  },
  {
   "cell_type": "code",
   "execution_count": null,
   "metadata": {},
   "outputs": [],
   "source": [
    "plt.hist(data[\"B\"])"
   ]
  },
  {
   "cell_type": "code",
   "execution_count": null,
   "metadata": {},
   "outputs": [],
   "source": [
    "mainpath = \"/home/oscar/Escritorio/misnotebooks/data/\"\n",
    "filename = \"Customer Churn Model.txt\"\n",
    "data = pd.read_csv(mainpath + filename)\n",
    "data.head()"
   ]
  },
  {
   "cell_type": "code",
   "execution_count": null,
   "metadata": {},
   "outputs": [],
   "source": [
    "colum_names = data.columns.values.tolist()"
   ]
  },
  {
   "cell_type": "code",
   "execution_count": null,
   "metadata": {},
   "outputs": [],
   "source": [
    "a = len(colum_names)\n",
    "a"
   ]
  },
  {
   "cell_type": "code",
   "execution_count": null,
   "metadata": {},
   "outputs": [],
   "source": [
    "new_data = pd.DataFrame(\n",
    "    {\n",
    "        'Colum Name': colum_names,\n",
    "        'A': np.random.randn(a),\n",
    "        'B': np.random.uniform(0, 1, a)\n",
    "    }, index = range(42, 42 + a)\n",
    ")"
   ]
  },
  {
   "cell_type": "code",
   "execution_count": null,
   "metadata": {},
   "outputs": [],
   "source": [
    "new_data.head()"
   ]
  }
 ],
 "metadata": {
  "kernelspec": {
   "display_name": "Python 3",
   "language": "python",
   "name": "python3"
  },
  "language_info": {
   "codemirror_mode": {
    "name": "ipython",
    "version": 3
   },
   "file_extension": ".py",
   "mimetype": "text/x-python",
   "name": "python",
   "nbconvert_exporter": "python",
   "pygments_lexer": "ipython3",
   "version": "3.6.5"
  }
 },
 "nbformat": 4,
 "nbformat_minor": 2
}
